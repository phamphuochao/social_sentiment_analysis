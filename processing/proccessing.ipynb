{
 "cells": [
  {
   "cell_type": "markdown",
   "metadata": {},
   "source": [
    "1. Khai báo thư viện"
   ]
  },
  {
   "cell_type": "code",
   "execution_count": 1,
   "metadata": {},
   "outputs": [
    {
     "name": "stderr",
     "output_type": "stream",
     "text": [
      "[nltk_data] Downloading package stopwords to\n",
      "[nltk_data]     C:\\Users\\HaoPham\\AppData\\Roaming\\nltk_data...\n",
      "[nltk_data]   Package stopwords is already up-to-date!\n",
      "[nltk_data] Downloading package wordnet to\n",
      "[nltk_data]     C:\\Users\\HaoPham\\AppData\\Roaming\\nltk_data...\n",
      "[nltk_data]   Package wordnet is already up-to-date!\n"
     ]
    }
   ],
   "source": [
    "import re\n",
    "import nltk\n",
    "from nltk.corpus import stopwords\n",
    "from nltk.tokenize import word_tokenize\n",
    "from nltk.stem import WordNetLemmatizer\n",
    "import pandas as pd\n",
    "from collections import Counter\n",
    "\n",
    "# Kiểm tra và tải nếu gói chưa được cài đặt\n",
    "def download_nltk_package(package_name):\n",
    "    try:\n",
    "        nltk.data.find(f'tokenizers/{package_name}')\n",
    "    except LookupError:\n",
    "        nltk.download(package_name)\n",
    "\n",
    "# Kiểm tra và tải các gói cần thiết\n",
    "download_nltk_package('stopwords')\n",
    "download_nltk_package('punkt')\n",
    "download_nltk_package('wordnet')"
   ]
  },
  {
   "cell_type": "markdown",
   "metadata": {},
   "source": [
    "2. Load data"
   ]
  },
  {
   "cell_type": "code",
   "execution_count": 2,
   "metadata": {},
   "outputs": [
    {
     "data": {
      "text/html": [
       "<div>\n",
       "<style scoped>\n",
       "    .dataframe tbody tr th:only-of-type {\n",
       "        vertical-align: middle;\n",
       "    }\n",
       "\n",
       "    .dataframe tbody tr th {\n",
       "        vertical-align: top;\n",
       "    }\n",
       "\n",
       "    .dataframe thead th {\n",
       "        text-align: right;\n",
       "    }\n",
       "</style>\n",
       "<table border=\"1\" class=\"dataframe\">\n",
       "  <thead>\n",
       "    <tr style=\"text-align: right;\">\n",
       "      <th></th>\n",
       "      <th>Post ID</th>\n",
       "      <th>Post Content</th>\n",
       "      <th>Sentiment Label</th>\n",
       "      <th>Number of Likes</th>\n",
       "      <th>Number of Shares</th>\n",
       "      <th>Number of Comments</th>\n",
       "      <th>User Follower Count</th>\n",
       "      <th>Post Date and Time</th>\n",
       "      <th>Post Type</th>\n",
       "      <th>Language</th>\n",
       "    </tr>\n",
       "  </thead>\n",
       "  <tbody>\n",
       "    <tr>\n",
       "      <th>0</th>\n",
       "      <td>aa391375-7355-44b7-bcbf-97fb4e5a2ba3</td>\n",
       "      <td>Word who nor center everything better politica...</td>\n",
       "      <td>Neutral</td>\n",
       "      <td>157</td>\n",
       "      <td>243</td>\n",
       "      <td>64</td>\n",
       "      <td>4921</td>\n",
       "      <td>2024-01-10 00:14:21</td>\n",
       "      <td>video</td>\n",
       "      <td>fr</td>\n",
       "    </tr>\n",
       "    <tr>\n",
       "      <th>1</th>\n",
       "      <td>1c9ec98d-437a-48d9-9cba-bd5ad853c59a</td>\n",
       "      <td>Begin administration population good president...</td>\n",
       "      <td>Positive</td>\n",
       "      <td>166</td>\n",
       "      <td>49</td>\n",
       "      <td>121</td>\n",
       "      <td>612</td>\n",
       "      <td>2024-02-03 00:20:11</td>\n",
       "      <td>image</td>\n",
       "      <td>es</td>\n",
       "    </tr>\n",
       "    <tr>\n",
       "      <th>2</th>\n",
       "      <td>170e5b5b-1d9a-4d02-a957-93c4dbb18908</td>\n",
       "      <td>Thousand total sign. Agree product relationshi...</td>\n",
       "      <td>Positive</td>\n",
       "      <td>185</td>\n",
       "      <td>224</td>\n",
       "      <td>179</td>\n",
       "      <td>9441</td>\n",
       "      <td>2024-07-25 14:20:23</td>\n",
       "      <td>video</td>\n",
       "      <td>de</td>\n",
       "    </tr>\n",
       "    <tr>\n",
       "      <th>3</th>\n",
       "      <td>aec53496-60ee-4a06-8821-093a04dc8770</td>\n",
       "      <td>Individual from news third. Oil forget them di...</td>\n",
       "      <td>Neutral</td>\n",
       "      <td>851</td>\n",
       "      <td>369</td>\n",
       "      <td>39</td>\n",
       "      <td>6251</td>\n",
       "      <td>2024-02-20 09:15:09</td>\n",
       "      <td>text</td>\n",
       "      <td>de</td>\n",
       "    </tr>\n",
       "    <tr>\n",
       "      <th>4</th>\n",
       "      <td>4eacddb7-990d-4056-8784-7e1d5c4d1404</td>\n",
       "      <td>Time adult letter see reduce. Attention sudden...</td>\n",
       "      <td>Negative</td>\n",
       "      <td>709</td>\n",
       "      <td>356</td>\n",
       "      <td>52</td>\n",
       "      <td>1285</td>\n",
       "      <td>2024-03-01 04:17:35</td>\n",
       "      <td>image</td>\n",
       "      <td>de</td>\n",
       "    </tr>\n",
       "  </tbody>\n",
       "</table>\n",
       "</div>"
      ],
      "text/plain": [
       "                                Post ID  \\\n",
       "0  aa391375-7355-44b7-bcbf-97fb4e5a2ba3   \n",
       "1  1c9ec98d-437a-48d9-9cba-bd5ad853c59a   \n",
       "2  170e5b5b-1d9a-4d02-a957-93c4dbb18908   \n",
       "3  aec53496-60ee-4a06-8821-093a04dc8770   \n",
       "4  4eacddb7-990d-4056-8784-7e1d5c4d1404   \n",
       "\n",
       "                                        Post Content Sentiment Label  \\\n",
       "0  Word who nor center everything better politica...         Neutral   \n",
       "1  Begin administration population good president...        Positive   \n",
       "2  Thousand total sign. Agree product relationshi...        Positive   \n",
       "3  Individual from news third. Oil forget them di...         Neutral   \n",
       "4  Time adult letter see reduce. Attention sudden...        Negative   \n",
       "\n",
       "   Number of Likes  Number of Shares  Number of Comments  User Follower Count  \\\n",
       "0              157               243                  64                 4921   \n",
       "1              166                49                 121                  612   \n",
       "2              185               224                 179                 9441   \n",
       "3              851               369                  39                 6251   \n",
       "4              709               356                  52                 1285   \n",
       "\n",
       "    Post Date and Time Post Type Language  \n",
       "0  2024-01-10 00:14:21     video       fr  \n",
       "1  2024-02-03 00:20:11     image       es  \n",
       "2  2024-07-25 14:20:23     video       de  \n",
       "3  2024-02-20 09:15:09      text       de  \n",
       "4  2024-03-01 04:17:35     image       de  "
      ]
     },
     "execution_count": 2,
     "metadata": {},
     "output_type": "execute_result"
    }
   ],
   "source": [
    "# Tải dữ liệu để xử  lí\n",
    "path = r\"D:\\DATN\\Social Media Sentiments Analysis Dataset\\New_version\\dataset\\synthetic_social_media_data.csv\"\n",
    "data = pd.read_csv(path)\n",
    "df =  pd.DataFrame(data)\n",
    "df.head()"
   ]
  },
  {
   "cell_type": "markdown",
   "metadata": {},
   "source": [
    "3. Kiểm tra dữ liệu"
   ]
  },
  {
   "cell_type": "code",
   "execution_count": 3,
   "metadata": {},
   "outputs": [
    {
     "name": "stdout",
     "output_type": "stream",
     "text": [
      "<class 'pandas.core.frame.DataFrame'>\n",
      "RangeIndex: 2000 entries, 0 to 1999\n",
      "Data columns (total 10 columns):\n",
      " #   Column               Non-Null Count  Dtype \n",
      "---  ------               --------------  ----- \n",
      " 0   Post ID              2000 non-null   object\n",
      " 1   Post Content         2000 non-null   object\n",
      " 2   Sentiment Label      2000 non-null   object\n",
      " 3   Number of Likes      2000 non-null   int64 \n",
      " 4   Number of Shares     2000 non-null   int64 \n",
      " 5   Number of Comments   2000 non-null   int64 \n",
      " 6   User Follower Count  2000 non-null   int64 \n",
      " 7   Post Date and Time   2000 non-null   object\n",
      " 8   Post Type            2000 non-null   object\n",
      " 9   Language             2000 non-null   object\n",
      "dtypes: int64(4), object(6)\n",
      "memory usage: 156.4+ KB\n"
     ]
    }
   ],
   "source": [
    "# Thông tin về dữ liệu\n",
    "df.info()"
   ]
  },
  {
   "cell_type": "code",
   "execution_count": 4,
   "metadata": {},
   "outputs": [
    {
     "data": {
      "text/html": [
       "<div>\n",
       "<style scoped>\n",
       "    .dataframe tbody tr th:only-of-type {\n",
       "        vertical-align: middle;\n",
       "    }\n",
       "\n",
       "    .dataframe tbody tr th {\n",
       "        vertical-align: top;\n",
       "    }\n",
       "\n",
       "    .dataframe thead th {\n",
       "        text-align: right;\n",
       "    }\n",
       "</style>\n",
       "<table border=\"1\" class=\"dataframe\">\n",
       "  <thead>\n",
       "    <tr style=\"text-align: right;\">\n",
       "      <th></th>\n",
       "      <th>count</th>\n",
       "      <th>mean</th>\n",
       "      <th>std</th>\n",
       "      <th>min</th>\n",
       "      <th>25%</th>\n",
       "      <th>50%</th>\n",
       "      <th>75%</th>\n",
       "      <th>max</th>\n",
       "    </tr>\n",
       "  </thead>\n",
       "  <tbody>\n",
       "    <tr>\n",
       "      <th>Number of Likes</th>\n",
       "      <td>2000.0</td>\n",
       "      <td>503.379</td>\n",
       "      <td>283.210866</td>\n",
       "      <td>1.0</td>\n",
       "      <td>267.00</td>\n",
       "      <td>505.0</td>\n",
       "      <td>740.00</td>\n",
       "      <td>1000.0</td>\n",
       "    </tr>\n",
       "    <tr>\n",
       "      <th>Number of Shares</th>\n",
       "      <td>2000.0</td>\n",
       "      <td>248.485</td>\n",
       "      <td>145.094990</td>\n",
       "      <td>0.0</td>\n",
       "      <td>121.00</td>\n",
       "      <td>248.5</td>\n",
       "      <td>375.00</td>\n",
       "      <td>500.0</td>\n",
       "    </tr>\n",
       "    <tr>\n",
       "      <th>Number of Comments</th>\n",
       "      <td>2000.0</td>\n",
       "      <td>102.805</td>\n",
       "      <td>58.032886</td>\n",
       "      <td>0.0</td>\n",
       "      <td>52.00</td>\n",
       "      <td>104.5</td>\n",
       "      <td>153.25</td>\n",
       "      <td>200.0</td>\n",
       "    </tr>\n",
       "    <tr>\n",
       "      <th>User Follower Count</th>\n",
       "      <td>2000.0</td>\n",
       "      <td>5005.777</td>\n",
       "      <td>2913.865254</td>\n",
       "      <td>3.0</td>\n",
       "      <td>2383.25</td>\n",
       "      <td>5048.5</td>\n",
       "      <td>7556.50</td>\n",
       "      <td>9999.0</td>\n",
       "    </tr>\n",
       "  </tbody>\n",
       "</table>\n",
       "</div>"
      ],
      "text/plain": [
       "                      count      mean          std  min      25%     50%  \\\n",
       "Number of Likes      2000.0   503.379   283.210866  1.0   267.00   505.0   \n",
       "Number of Shares     2000.0   248.485   145.094990  0.0   121.00   248.5   \n",
       "Number of Comments   2000.0   102.805    58.032886  0.0    52.00   104.5   \n",
       "User Follower Count  2000.0  5005.777  2913.865254  3.0  2383.25  5048.5   \n",
       "\n",
       "                         75%     max  \n",
       "Number of Likes       740.00  1000.0  \n",
       "Number of Shares      375.00   500.0  \n",
       "Number of Comments    153.25   200.0  \n",
       "User Follower Count  7556.50  9999.0  "
      ]
     },
     "execution_count": 4,
     "metadata": {},
     "output_type": "execute_result"
    }
   ],
   "source": [
    "# Thống kê cơ bản\n",
    "df.describe().T"
   ]
  },
  {
   "cell_type": "code",
   "execution_count": 5,
   "metadata": {},
   "outputs": [
    {
     "data": {
      "text/plain": [
       "Post ID                0\n",
       "Post Content           0\n",
       "Sentiment Label        0\n",
       "Number of Likes        0\n",
       "Number of Shares       0\n",
       "Number of Comments     0\n",
       "User Follower Count    0\n",
       "Post Date and Time     0\n",
       "Post Type              0\n",
       "Language               0\n",
       "dtype: int64"
      ]
     },
     "execution_count": 5,
     "metadata": {},
     "output_type": "execute_result"
    }
   ],
   "source": [
    "# Kiểm tra dữ liệu null\n",
    "df.isnull().sum()"
   ]
  },
  {
   "cell_type": "code",
   "execution_count": 6,
   "metadata": {},
   "outputs": [
    {
     "data": {
      "text/plain": [
       "np.int64(0)"
      ]
     },
     "execution_count": 6,
     "metadata": {},
     "output_type": "execute_result"
    }
   ],
   "source": [
    "# Kiểm tra dữ liệu trùng lặp\n",
    "df.duplicated().sum()"
   ]
  },
  {
   "cell_type": "code",
   "execution_count": 7,
   "metadata": {},
   "outputs": [
    {
     "data": {
      "text/plain": [
       "(2000, 10)"
      ]
     },
     "execution_count": 7,
     "metadata": {},
     "output_type": "execute_result"
    }
   ],
   "source": [
    "# Tổng quan \n",
    "df.shape"
   ]
  },
  {
   "cell_type": "markdown",
   "metadata": {},
   "source": [
    "Sau khi kiểm tra dữ liệu thì có nhưng điểm chính như sau:\n",
    "\n",
    "    + Tổng quang: có 2000 dòng và 10 cột\n",
    "    + Gía trị thiếu: không có giá trị thiếu\n",
    "    + Các trường dữ liệu: trong đó chỉ có 1 trường là phân loại: 'Post Date and Time'(theo dạng ngày),\n",
    "    còn lại hậu như là theo dạng số và chuỗi.\n",
    "    + Ngoại lệ: không có các ngoại lệ\n",
    "    + Các dữ liệu trùng lập: không có dữ liệu trùng lập\n",
    "-----------------------------------------------------------------\n",
    "Nhận xét: Dữ liệu hiện đang có 3 cột không cần thiêt là 'Language','User Follower Count', 'Post ID' để đi đúng vào vấn đề cần phân tích thì sẽ không chọn. Cũng như dữ liệu trong mỗi dòng ở cột 'Post Content' có chứa các từ gây cản trở quá trình phân tích cần xử lí. Sau cùng là định dạng dữ liệu ở cột 'Post Date and Time' lại thành Datetime."
   ]
  },
  {
   "cell_type": "markdown",
   "metadata": {},
   "source": [
    "4. Xử lý dữ liệu"
   ]
  },
  {
   "cell_type": "markdown",
   "metadata": {},
   "source": [
    "4.1 Xử lý các trường dữ liệu"
   ]
  },
  {
   "cell_type": "code",
   "execution_count": 8,
   "metadata": {},
   "outputs": [
    {
     "data": {
      "text/html": [
       "<div>\n",
       "<style scoped>\n",
       "    .dataframe tbody tr th:only-of-type {\n",
       "        vertical-align: middle;\n",
       "    }\n",
       "\n",
       "    .dataframe tbody tr th {\n",
       "        vertical-align: top;\n",
       "    }\n",
       "\n",
       "    .dataframe thead th {\n",
       "        text-align: right;\n",
       "    }\n",
       "</style>\n",
       "<table border=\"1\" class=\"dataframe\">\n",
       "  <thead>\n",
       "    <tr style=\"text-align: right;\">\n",
       "      <th></th>\n",
       "      <th>Post Content</th>\n",
       "      <th>Sentiment Label</th>\n",
       "      <th>Number of Likes</th>\n",
       "      <th>Number of Shares</th>\n",
       "      <th>Number of Comments</th>\n",
       "      <th>Post Date and Time</th>\n",
       "      <th>Post Type</th>\n",
       "    </tr>\n",
       "  </thead>\n",
       "  <tbody>\n",
       "    <tr>\n",
       "      <th>0</th>\n",
       "      <td>Word who nor center everything better politica...</td>\n",
       "      <td>Neutral</td>\n",
       "      <td>157</td>\n",
       "      <td>243</td>\n",
       "      <td>64</td>\n",
       "      <td>2024-01-10 00:14:21</td>\n",
       "      <td>video</td>\n",
       "    </tr>\n",
       "    <tr>\n",
       "      <th>1</th>\n",
       "      <td>Begin administration population good president...</td>\n",
       "      <td>Positive</td>\n",
       "      <td>166</td>\n",
       "      <td>49</td>\n",
       "      <td>121</td>\n",
       "      <td>2024-02-03 00:20:11</td>\n",
       "      <td>image</td>\n",
       "    </tr>\n",
       "    <tr>\n",
       "      <th>2</th>\n",
       "      <td>Thousand total sign. Agree product relationshi...</td>\n",
       "      <td>Positive</td>\n",
       "      <td>185</td>\n",
       "      <td>224</td>\n",
       "      <td>179</td>\n",
       "      <td>2024-07-25 14:20:23</td>\n",
       "      <td>video</td>\n",
       "    </tr>\n",
       "    <tr>\n",
       "      <th>3</th>\n",
       "      <td>Individual from news third. Oil forget them di...</td>\n",
       "      <td>Neutral</td>\n",
       "      <td>851</td>\n",
       "      <td>369</td>\n",
       "      <td>39</td>\n",
       "      <td>2024-02-20 09:15:09</td>\n",
       "      <td>text</td>\n",
       "    </tr>\n",
       "    <tr>\n",
       "      <th>4</th>\n",
       "      <td>Time adult letter see reduce. Attention sudden...</td>\n",
       "      <td>Negative</td>\n",
       "      <td>709</td>\n",
       "      <td>356</td>\n",
       "      <td>52</td>\n",
       "      <td>2024-03-01 04:17:35</td>\n",
       "      <td>image</td>\n",
       "    </tr>\n",
       "  </tbody>\n",
       "</table>\n",
       "</div>"
      ],
      "text/plain": [
       "                                        Post Content Sentiment Label  \\\n",
       "0  Word who nor center everything better politica...         Neutral   \n",
       "1  Begin administration population good president...        Positive   \n",
       "2  Thousand total sign. Agree product relationshi...        Positive   \n",
       "3  Individual from news third. Oil forget them di...         Neutral   \n",
       "4  Time adult letter see reduce. Attention sudden...        Negative   \n",
       "\n",
       "   Number of Likes  Number of Shares  Number of Comments   Post Date and Time  \\\n",
       "0              157               243                  64  2024-01-10 00:14:21   \n",
       "1              166                49                 121  2024-02-03 00:20:11   \n",
       "2              185               224                 179  2024-07-25 14:20:23   \n",
       "3              851               369                  39  2024-02-20 09:15:09   \n",
       "4              709               356                  52  2024-03-01 04:17:35   \n",
       "\n",
       "  Post Type  \n",
       "0     video  \n",
       "1     image  \n",
       "2     video  \n",
       "3      text  \n",
       "4     image  "
      ]
     },
     "execution_count": 8,
     "metadata": {},
     "output_type": "execute_result"
    }
   ],
   "source": [
    "# Chọn lại các cột cần thiết trong quá trình phân tích\n",
    "df_selected = df[['Post Content','Sentiment Label','Number of Likes','Number of Shares','Number of Comments','Post Date and Time','Post Type']]\n",
    "df_selected.head()"
   ]
  },
  {
   "cell_type": "code",
   "execution_count": 9,
   "metadata": {},
   "outputs": [
    {
     "name": "stderr",
     "output_type": "stream",
     "text": [
      "C:\\Users\\HaoPham\\AppData\\Local\\Temp\\ipykernel_7136\\876819217.py:54: SettingWithCopyWarning: \n",
      "A value is trying to be set on a copy of a slice from a DataFrame.\n",
      "Try using .loc[row_indexer,col_indexer] = value instead\n",
      "\n",
      "See the caveats in the documentation: https://pandas.pydata.org/pandas-docs/stable/user_guide/indexing.html#returning-a-view-versus-a-copy\n",
      "  df['Processed Content'] = df[column_name].apply(lambda x: preprocess_text(x, custom_stop_words))\n"
     ]
    },
    {
     "data": {
      "text/html": [
       "<div>\n",
       "<style scoped>\n",
       "    .dataframe tbody tr th:only-of-type {\n",
       "        vertical-align: middle;\n",
       "    }\n",
       "\n",
       "    .dataframe tbody tr th {\n",
       "        vertical-align: top;\n",
       "    }\n",
       "\n",
       "    .dataframe thead th {\n",
       "        text-align: right;\n",
       "    }\n",
       "</style>\n",
       "<table border=\"1\" class=\"dataframe\">\n",
       "  <thead>\n",
       "    <tr style=\"text-align: right;\">\n",
       "      <th></th>\n",
       "      <th>Post Content</th>\n",
       "      <th>Sentiment Label</th>\n",
       "      <th>Number of Likes</th>\n",
       "      <th>Number of Shares</th>\n",
       "      <th>Number of Comments</th>\n",
       "      <th>Post Date and Time</th>\n",
       "      <th>Post Type</th>\n",
       "      <th>Processed Content</th>\n",
       "    </tr>\n",
       "  </thead>\n",
       "  <tbody>\n",
       "    <tr>\n",
       "      <th>0</th>\n",
       "      <td>Word who nor center everything better politica...</td>\n",
       "      <td>Neutral</td>\n",
       "      <td>157</td>\n",
       "      <td>243</td>\n",
       "      <td>64</td>\n",
       "      <td>2024-01-10 00:14:21</td>\n",
       "      <td>video</td>\n",
       "      <td>center everything better political various cou...</td>\n",
       "    </tr>\n",
       "    <tr>\n",
       "      <th>1</th>\n",
       "      <td>Begin administration population good president...</td>\n",
       "      <td>Positive</td>\n",
       "      <td>166</td>\n",
       "      <td>49</td>\n",
       "      <td>121</td>\n",
       "      <td>2024-02-03 00:20:11</td>\n",
       "      <td>image</td>\n",
       "      <td>begin administration population president part...</td>\n",
       "    </tr>\n",
       "    <tr>\n",
       "      <th>2</th>\n",
       "      <td>Thousand total sign. Agree product relationshi...</td>\n",
       "      <td>Positive</td>\n",
       "      <td>185</td>\n",
       "      <td>224</td>\n",
       "      <td>179</td>\n",
       "      <td>2024-07-25 14:20:23</td>\n",
       "      <td>video</td>\n",
       "      <td>thousand total agree product relationship seve...</td>\n",
       "    </tr>\n",
       "    <tr>\n",
       "      <th>3</th>\n",
       "      <td>Individual from news third. Oil forget them di...</td>\n",
       "      <td>Neutral</td>\n",
       "      <td>851</td>\n",
       "      <td>369</td>\n",
       "      <td>39</td>\n",
       "      <td>2024-02-20 09:15:09</td>\n",
       "      <td>text</td>\n",
       "      <td>individual third forget different account whit...</td>\n",
       "    </tr>\n",
       "    <tr>\n",
       "      <th>4</th>\n",
       "      <td>Time adult letter see reduce. Attention sudden...</td>\n",
       "      <td>Negative</td>\n",
       "      <td>709</td>\n",
       "      <td>356</td>\n",
       "      <td>52</td>\n",
       "      <td>2024-03-01 04:17:35</td>\n",
       "      <td>image</td>\n",
       "      <td>adult letter reduce attention suddenly agency ...</td>\n",
       "    </tr>\n",
       "  </tbody>\n",
       "</table>\n",
       "</div>"
      ],
      "text/plain": [
       "                                        Post Content Sentiment Label  \\\n",
       "0  Word who nor center everything better politica...         Neutral   \n",
       "1  Begin administration population good president...        Positive   \n",
       "2  Thousand total sign. Agree product relationshi...        Positive   \n",
       "3  Individual from news third. Oil forget them di...         Neutral   \n",
       "4  Time adult letter see reduce. Attention sudden...        Negative   \n",
       "\n",
       "   Number of Likes  Number of Shares  Number of Comments   Post Date and Time  \\\n",
       "0              157               243                  64  2024-01-10 00:14:21   \n",
       "1              166                49                 121  2024-02-03 00:20:11   \n",
       "2              185               224                 179  2024-07-25 14:20:23   \n",
       "3              851               369                  39  2024-02-20 09:15:09   \n",
       "4              709               356                  52  2024-03-01 04:17:35   \n",
       "\n",
       "  Post Type                                  Processed Content  \n",
       "0     video  center everything better political various cou...  \n",
       "1     image  begin administration population president part...  \n",
       "2     video  thousand total agree product relationship seve...  \n",
       "3      text  individual third forget different account whit...  \n",
       "4     image  adult letter reduce attention suddenly agency ...  "
      ]
     },
     "execution_count": 9,
     "metadata": {},
     "output_type": "execute_result"
    }
   ],
   "source": [
    "# Hàm xử lý dữ liệu trong cột \"Post Content\"\n",
    "def preprocess_text_column(df, column_name):\n",
    "    # Khởi tạo lemmatizer và danh sách stopwords\n",
    "    lemmatizer = WordNetLemmatizer()\n",
    "    stop_words = set(stopwords.words('english'))\n",
    "\n",
    "    def clean_text(text):\n",
    "        \"\"\"Làm sạch văn bản: loại bỏ ký tự đặc biệt, emoji và chữ số.\"\"\"\n",
    "        text = re.sub(r'[^a-zA-Z\\s]', '', text)  # Chỉ giữ lại chữ cái\n",
    "        text = re.sub(r'\\s+', ' ', text).strip()  # Xóa khoảng trắng thừa\n",
    "        return text\n",
    "\n",
    "    def to_lower(text):\n",
    "        \"\"\"Chuyển văn bản về chữ thường.\"\"\"\n",
    "        return text.lower()\n",
    "\n",
    "    def tokenize(text):\n",
    "        \"\"\"Tokenize văn bản thành các từ.\"\"\"\n",
    "        return word_tokenize(text)\n",
    "\n",
    "    def get_custom_stopwords():\n",
    "        \"\"\"Tạo danh sách stopwords tùy chỉnh từ cột 'Post Content'.\"\"\"\n",
    "        all_posts = ' '.join(df[column_name].astype(str))  # Kết hợp tất cả nội dung\n",
    "        tokens_all = word_tokenize(all_posts)  # Tokenize tất cả nội dung\n",
    "        word_counts = Counter(tokens_all)  # Tính tần suất xuất hiện của các từ\n",
    "\n",
    "        # Lấy các từ không có nghĩa (có thể điều chỉnh điều kiện này)\n",
    "        user_stop_words = {word for word, count in word_counts.items() if count > 2 and len(word) < 5}\n",
    "        \n",
    "        # Kết hợp với stopwords mặc định\n",
    "        return stop_words.union(user_stop_words)\n",
    "\n",
    "    def remove_stopwords(tokens, custom_stop_words):\n",
    "        \"\"\"Loại bỏ các stopwords khỏi danh sách các từ.\"\"\"\n",
    "        return [word for word in tokens if word not in custom_stop_words]\n",
    "\n",
    "    def lemmatize_tokens(tokens):\n",
    "        \"\"\"Thực hiện lemmatization cho các từ.\"\"\"\n",
    "        return [lemmatizer.lemmatize(word) for word in tokens]\n",
    "\n",
    "    def preprocess_text(text, custom_stop_words):\n",
    "        \"\"\"Tiền xử lý văn bản: gọi các hàm riêng biệt.\"\"\"\n",
    "        text = to_lower(text)\n",
    "        text = clean_text(text)\n",
    "        tokens = tokenize(text)\n",
    "        tokens = remove_stopwords(tokens, custom_stop_words)\n",
    "        tokens = lemmatize_tokens(tokens)\n",
    "        return ' '.join(tokens)\n",
    "\n",
    "    # Tạo danh sách stopwords tùy chỉnh từ cột dữ liệu\n",
    "    custom_stop_words = get_custom_stopwords()\n",
    "\n",
    "    # Áp dụng tiền xử lý cho toàn bộ cột và lưu vào cột mới \"Processed Content\"\n",
    "    df['Processed Content'] = df[column_name].apply(lambda x: preprocess_text(x, custom_stop_words))\n",
    "\n",
    "    return df\n",
    "\n",
    "# Ví dụ sử dụng để xử lý cột \"Post Content\"\n",
    "# Gọi hàm preprocess_text_column để xử lý cột \"Post Content\"\n",
    "df_selected = preprocess_text_column(df_selected, \"Post Content\")\n",
    "df_selected.head()"
   ]
  },
  {
   "cell_type": "markdown",
   "metadata": {},
   "source": [
    "Xóa cột Post content cũ  thay  thế bằng cột đã xử lí "
   ]
  },
  {
   "cell_type": "code",
   "execution_count": 10,
   "metadata": {},
   "outputs": [
    {
     "data": {
      "text/html": [
       "<div>\n",
       "<style scoped>\n",
       "    .dataframe tbody tr th:only-of-type {\n",
       "        vertical-align: middle;\n",
       "    }\n",
       "\n",
       "    .dataframe tbody tr th {\n",
       "        vertical-align: top;\n",
       "    }\n",
       "\n",
       "    .dataframe thead th {\n",
       "        text-align: right;\n",
       "    }\n",
       "</style>\n",
       "<table border=\"1\" class=\"dataframe\">\n",
       "  <thead>\n",
       "    <tr style=\"text-align: right;\">\n",
       "      <th></th>\n",
       "      <th>Post Content</th>\n",
       "      <th>Sentiment Label</th>\n",
       "      <th>Number of Likes</th>\n",
       "      <th>Number of Shares</th>\n",
       "      <th>Number of Comments</th>\n",
       "      <th>Post Date and Time</th>\n",
       "      <th>Post Type</th>\n",
       "    </tr>\n",
       "  </thead>\n",
       "  <tbody>\n",
       "    <tr>\n",
       "      <th>0</th>\n",
       "      <td>center everything better political various cou...</td>\n",
       "      <td>Neutral</td>\n",
       "      <td>157</td>\n",
       "      <td>243</td>\n",
       "      <td>64</td>\n",
       "      <td>2024-01-10 00:14:21</td>\n",
       "      <td>video</td>\n",
       "    </tr>\n",
       "    <tr>\n",
       "      <th>1</th>\n",
       "      <td>begin administration population president part...</td>\n",
       "      <td>Positive</td>\n",
       "      <td>166</td>\n",
       "      <td>49</td>\n",
       "      <td>121</td>\n",
       "      <td>2024-02-03 00:20:11</td>\n",
       "      <td>image</td>\n",
       "    </tr>\n",
       "    <tr>\n",
       "      <th>2</th>\n",
       "      <td>thousand total agree product relationship seve...</td>\n",
       "      <td>Positive</td>\n",
       "      <td>185</td>\n",
       "      <td>224</td>\n",
       "      <td>179</td>\n",
       "      <td>2024-07-25 14:20:23</td>\n",
       "      <td>video</td>\n",
       "    </tr>\n",
       "    <tr>\n",
       "      <th>3</th>\n",
       "      <td>individual third forget different account whit...</td>\n",
       "      <td>Neutral</td>\n",
       "      <td>851</td>\n",
       "      <td>369</td>\n",
       "      <td>39</td>\n",
       "      <td>2024-02-20 09:15:09</td>\n",
       "      <td>text</td>\n",
       "    </tr>\n",
       "    <tr>\n",
       "      <th>4</th>\n",
       "      <td>adult letter reduce attention suddenly agency ...</td>\n",
       "      <td>Negative</td>\n",
       "      <td>709</td>\n",
       "      <td>356</td>\n",
       "      <td>52</td>\n",
       "      <td>2024-03-01 04:17:35</td>\n",
       "      <td>image</td>\n",
       "    </tr>\n",
       "  </tbody>\n",
       "</table>\n",
       "</div>"
      ],
      "text/plain": [
       "                                        Post Content Sentiment Label  \\\n",
       "0  center everything better political various cou...         Neutral   \n",
       "1  begin administration population president part...        Positive   \n",
       "2  thousand total agree product relationship seve...        Positive   \n",
       "3  individual third forget different account whit...         Neutral   \n",
       "4  adult letter reduce attention suddenly agency ...        Negative   \n",
       "\n",
       "   Number of Likes  Number of Shares  Number of Comments   Post Date and Time  \\\n",
       "0              157               243                  64  2024-01-10 00:14:21   \n",
       "1              166                49                 121  2024-02-03 00:20:11   \n",
       "2              185               224                 179  2024-07-25 14:20:23   \n",
       "3              851               369                  39  2024-02-20 09:15:09   \n",
       "4              709               356                  52  2024-03-01 04:17:35   \n",
       "\n",
       "  Post Type  \n",
       "0     video  \n",
       "1     image  \n",
       "2     video  \n",
       "3      text  \n",
       "4     image  "
      ]
     },
     "execution_count": 10,
     "metadata": {},
     "output_type": "execute_result"
    }
   ],
   "source": [
    "# Xóa cột \"Post Content\" gốc\n",
    "df_selected = df_selected.drop(columns=['Post Content'])\n",
    "\n",
    "# Đổi tên cột \"Processed Content\" thành \"Post Content\"\n",
    "df_selected.rename(columns={'Processed Content': 'Post Content'}, inplace=True)\n",
    "\n",
    "post_content = df_selected.pop('Post Content')\n",
    "df_selected.insert(0, 'Post Content', post_content)\n",
    "\n",
    "# Kết quả cuối cùng\n",
    "df_selected.head() # Hiển thị các dòng đầu tiên của DataFrame"
   ]
  },
  {
   "cell_type": "markdown",
   "metadata": {},
   "source": [
    "4.2 Chuẩn hóa dữ liệu"
   ]
  },
  {
   "cell_type": "code",
   "execution_count": 11,
   "metadata": {},
   "outputs": [],
   "source": [
    "# Đổi định dạng cột Timestamp thành kiểu datetime\n",
    "df_selected['Post Date and Time'] = pd.to_datetime(df_selected['Post Date and Time'])\n",
    "# Đổi định dạng cột Likes, Retweets thành kiểu int64\n",
    "df_selected[['Number of Likes', 'Number of Shares', 'Number of Comments']] = df_selected[['Number of Likes', 'Number of Shares', 'Number of Comments']].astype('int64')"
   ]
  },
  {
   "cell_type": "markdown",
   "metadata": {},
   "source": [
    "4.3 Dữ liệu sau khi xử lí"
   ]
  },
  {
   "cell_type": "code",
   "execution_count": 13,
   "metadata": {},
   "outputs": [
    {
     "name": "stdout",
     "output_type": "stream",
     "text": [
      "<class 'pandas.core.frame.DataFrame'>\n",
      "RangeIndex: 2000 entries, 0 to 1999\n",
      "Data columns (total 7 columns):\n",
      " #   Column              Non-Null Count  Dtype         \n",
      "---  ------              --------------  -----         \n",
      " 0   Post Content        2000 non-null   object        \n",
      " 1   Sentiment Label     2000 non-null   object        \n",
      " 2   Number of Likes     2000 non-null   int64         \n",
      " 3   Number of Shares    2000 non-null   int64         \n",
      " 4   Number of Comments  2000 non-null   int64         \n",
      " 5   Post Date and Time  2000 non-null   datetime64[ns]\n",
      " 6   Post Type           2000 non-null   object        \n",
      "dtypes: datetime64[ns](1), int64(3), object(3)\n",
      "memory usage: 109.5+ KB\n"
     ]
    }
   ],
   "source": [
    "df_selected.info()"
   ]
  },
  {
   "cell_type": "code",
   "execution_count": 15,
   "metadata": {},
   "outputs": [
    {
     "data": {
      "text/plain": [
       "(2000, 7)"
      ]
     },
     "execution_count": 15,
     "metadata": {},
     "output_type": "execute_result"
    }
   ],
   "source": [
    "df_selected.shape"
   ]
  },
  {
   "cell_type": "markdown",
   "metadata": {},
   "source": [
    "5. Lưu file đã xử lí"
   ]
  },
  {
   "cell_type": "code",
   "execution_count": null,
   "metadata": {},
   "outputs": [],
   "source": [
    "df_selected.to_csv(r\"D:\\DATN\\Social Media Sentiments Analysis Dataset\\New_version\\dataset\\procced\\synthetic_social_media_data_procced.csv\", index=False)\n"
   ]
  }
 ],
 "metadata": {
  "kernelspec": {
   "display_name": ".venv",
   "language": "python",
   "name": "python3"
  },
  "language_info": {
   "codemirror_mode": {
    "name": "ipython",
    "version": 3
   },
   "file_extension": ".py",
   "mimetype": "text/x-python",
   "name": "python",
   "nbconvert_exporter": "python",
   "pygments_lexer": "ipython3",
   "version": "3.12.1"
  }
 },
 "nbformat": 4,
 "nbformat_minor": 2
}
